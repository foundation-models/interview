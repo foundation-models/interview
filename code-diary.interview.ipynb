{
 "cells": [
  {
   "cell_type": "code",
   "execution_count": null,
   "source": [],
   "outputs": [],
   "metadata": {}
  },
  {
   "cell_type": "markdown",
   "source": [
    "***\n",
    "# Prepration\n",
    "* [Facebook ML Initial Prep Guide](https://www.facebook.com/careers/areas-of-work/engineering/?p[teams][0]=Software%20Engineering&teams[0]=Software%20Engineering&sub_teams[0]=Artificial%20Intelligence&sub_teams[1]=Machine%20Learning)\n",
    "* [Facebook's Machine Learning Interview Webinar Registration](https://fb.zoom.us/webinar/register/7116153181108/WN__SuULYGzS4eGYtJL9T0XwQ) Signed up for October 5 at 9 AM\n",
    "* [SWE IQA Sessions Hub](https://sweiqasessionshub.splashthat.com/)\n",
    "* [Google code interview process](https://careers.google.com/how-we-hire/#interviews-for-software-engineering-and-technical-roles)\n",
    "* * [Five Essential Phone Screen Questions by Steve Yegge (Google Engineer)](https://sites.google.com/site/steveyegge2/five-essential-phone-screen-questions)\n",
    "* * [Types of Algorithm Questions Google Asks: TopCoder Tutorials](https://www.topcoder.com/thrive/search?tags[]=Competitive%20Programming%20Tutorials)\n",
    "* * Follow [this email](https://mail.google.com/mail/u/0/#starred/FMfcgzGljllBRnqsXnDhWpDSrQdvnjWP)\n",
    "* Glassdoor sample of interview quesitons\n",
    "\n",
    "# Important Clues\n",
    "* Ask clarifying question upfront before diving the solution\n",
    "* Don't code in silence, think out louad\n",
    "* Instructor gives clue, Listen intently, take the hint and run with it\n",
    "* Work on code speed, communication and verification\n",
    "\n",
    "Tutorial sites:\n",
    "* [short videos to learn tree and data types](https://www.youtube.com/c/MichaelSambol/videos)\n",
    "\n",
    "Coding sites:\n",
    "* [Hackerearth](https://www.hackerearth.com/practice/)"
   ],
   "metadata": {}
  },
  {
   "cell_type": "markdown",
   "source": [
    "***\n",
    "# My first impression\n",
    "* Using this [Data Type Code Practice](https://www.hackerearth.com/practice/data-structures/arrays/1-d/practice-problems/algorithm/maximize-sum-0423b95e/) I think first \n",
    "* * Always start from Easy problem ten move on to Medium wen you fell you are ready then Hard, ten go back and work on your speed on each section\n",
    "* * Get yourself familiarize with the format and structure of the problem. You need to read it fast. Don't get panic. Maybe read it twice one browse throuh the problem finding the hot spots and then read carefully those spots\n",
    "* * Figure out corner cases (in this exmaple repeating a numebr). Find missing parts in the problem. This is for clarification question\n",
    "* * Time yourself and meausre improvement in coding speed\n",
    "* * Explain what you do\n",
    "* Learn the [Complexity of each algorithm](https://www.bigocheatsheet.com/  )\n",
    "* Most probably ask you a recursive programming\n",
    "* Use sort "
   ],
   "metadata": {}
  },
  {
   "cell_type": "markdown",
   "source": [
    "***\n",
    "# Fomr facebook\n",
    "\n",
    "* Make sure you understand the question. Read the question back to your interviewer and ask any clarifying questions. An interview is a two-way conversation; feel free to ask questions you might have.\n",
    "* Take time to consider your approach instead of rushing through your solutions. For example, on a tree question, you'll need to choose between an iterative or a recursive approach. It's OK first to use a working, unoptimized solution that you can iterate on later. Talk through your thinking and processes out loud. This can feel unnatural, so be sure to practice beforehand.\n",
    "* Test your code by running through your problem with a few test and edge cases. Again, talk through your logic out loud when you walk through your test cases.\n",
    "* Think of ways your solution could be better, and try to improve it. When you’ve finished, your interviewer will ask you to analyze the complexity of the code in Big O notation. Walk through your code line by line and assign a complexity to each line."
   ],
   "metadata": {}
  },
  {
   "cell_type": "markdown",
   "source": [
    "***\n",
    "# Practice: Binary search in python\n",
    "\n",
    "First find out what are input (should be sorted) and outpu. Let say \n",
    "```\n",
    "[4, 5, 8, 12, 45, 87]\n",
    "```\n",
    "and we find to find 45. The output is True or False\n"
   ],
   "metadata": {}
  },
  {
   "cell_type": "code",
   "execution_count": 9,
   "source": [
    "def find_it(list, target):\n",
    "    return binary_search(list, target, 0, len(list)-1)\n",
    "\n",
    "print(find_it([4, 5, 8, 12, 45, 87], 45))\n",
    "print(find_it([4, 5, 8, 12, 45, 87], 47))\n"
   ],
   "outputs": [
    {
     "output_type": "stream",
     "name": "stdout",
     "text": [
      "True\n",
      "False\n"
     ]
    }
   ],
   "metadata": {}
  },
  {
   "cell_type": "code",
   "execution_count": 8,
   "source": [
    "def binary_search(list, target, lower_index, upper_index):\n",
    "    if upper_index == lower_index + 1:\n",
    "        return False\n",
    "    middle_index = (lower_index + upper_index) // 2\n",
    "    candidate = list[middle_index]\n",
    "    if candidate == target:\n",
    "        return True\n",
    "    elif candidate < target:\n",
    "        lower_index = middle_index\n",
    "    else:\n",
    "        upper_index = middle_index\n",
    "    return binary_search(list, target, lower_index, upper_index)\n",
    "        "
   ],
   "outputs": [],
   "metadata": {}
  },
  {
   "cell_type": "markdown",
   "source": [
    "***\n",
    "# More East Practice\n",
    "\n",
    "I included the code for \n",
    "\n",
    "* two-sum\n",
    "* reverse\n",
    "* [common prefix](https://leetcode.com/problems/longest-common-prefix/)\n",
    "* [search-insert-position](https://leetcode.com/problems/search-insert-position/)"
   ],
   "metadata": {}
  },
  {
   "cell_type": "code",
   "execution_count": 4,
   "source": [
    "array_a = [1, 2, 3, 4]\n",
    "array_b = [1, 4, 3, 2]\n",
    "[a - b for a, b in zip(array_a, array_b)]\n",
    "\n"
   ],
   "outputs": [
    {
     "output_type": "execute_result",
     "data": {
      "text/plain": [
       "[0, -2, 0, 2]"
      ]
     },
     "metadata": {},
     "execution_count": 4
    }
   ],
   "metadata": {}
  },
  {
   "cell_type": "markdown",
   "source": [
    "***\n",
    "# Traversing Trees\n",
    "\n",
    "Following are Depth First, Stack\n",
    "Pre Order (first visit): FBADCEGIH \n",
    "```\n",
    "procedure preorder(node)\n",
    "    if node = null\n",
    "        return\n",
    "    visit(node)\n",
    "    preorder(node.left)\n",
    "    preorder(node.right) \n",
    "```\n",
    "\n",
    "Post Order (last we visit): ACEDBHIGF\n",
    "```\n",
    "procedure postorder(node)\n",
    "    if node = null\n",
    "        return\n",
    "    postorder(node.left)\n",
    "    postorder(node.right)\n",
    "    visit(node)\n",
    "```\n",
    "\n",
    "In Order (middle visit): ABCDEFGHI\n",
    "visit goees in te middle left and right line in the code\n",
    "\n",
    "Level Order\n",
    "Breath first, use Queue to remember left and right\n",
    "```\n",
    "procedure levelorder(node)\n",
    "    queue ← empty queue\n",
    "    queue.enqueue(node)\n",
    "    while not queue.isEmpty()\n",
    "        node ← queue.dequeue()\n",
    "        visit(node)\n",
    "        if node.left ≠ null\n",
    "            queue.enqueue(node.left)\n",
    "        if node.right ≠ null\n",
    "            queue.enqueue(node.right)\n",
    "```"
   ],
   "metadata": {}
  }
 ],
 "metadata": {
  "orig_nbformat": 4,
  "language_info": {
   "name": "python",
   "version": "3.6.10",
   "mimetype": "text/x-python",
   "codemirror_mode": {
    "name": "ipython",
    "version": 3
   },
   "pygments_lexer": "ipython3",
   "nbconvert_exporter": "python",
   "file_extension": ".py"
  },
  "kernelspec": {
   "name": "python3",
   "display_name": "Python 3.6.10 64-bit ('python3.6': conda)"
  },
  "interpreter": {
   "hash": "511c961a958a5fe6c252878c6ec7d592fcf96bda5c64fcd33dcabe5c7d75a3e2"
  }
 },
 "nbformat": 4,
 "nbformat_minor": 2
}