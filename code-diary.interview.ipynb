{
 "cells": [
  {
   "cell_type": "code",
   "execution_count": null,
   "metadata": {},
   "outputs": [],
   "source": []
  },
  {
   "cell_type": "markdown",
   "metadata": {},
   "source": [
    "***\n",
    "# Prepration\n",
    "* [Facebook ML Initial Prep Guide](https://www.facebook.com/careers/areas-of-work/engineering/?p[teams][0]=Software%20Engineering&teams[0]=Software%20Engineering&sub_teams[0]=Artificial%20Intelligence&sub_teams[1]=Machine%20Learning)\n",
    "* [Facebook's Machine Learning Interview Webinar Registration](https://fb.zoom.us/webinar/register/7116153181108/WN__SuULYGzS4eGYtJL9T0XwQ) Signed up for October 5 at 9 AM\n",
    "* [SWE IQA Sessions Hub](https://sweiqasessionshub.splashthat.com/)\n",
    "* [Google code interview process](https://careers.google.com/how-we-hire/#interviews-for-software-engineering-and-technical-roles)\n",
    "* * [Five Essential Phone Screen Questions by Steve Yegge (Google Engineer)](https://sites.google.com/site/steveyegge2/five-essential-phone-screen-questions)\n",
    "* * [Types of Algorithm Questions Google Asks: TopCoder Tutorials](https://www.topcoder.com/thrive/search?tags[]=Competitive%20Programming%20Tutorials)\n",
    "* * Follow [this email](https://mail.google.com/mail/u/0/#starred/FMfcgzGljllBRnqsXnDhWpDSrQdvnjWP)\n",
    "* Glassdoor sample of interview quesitons\n",
    "\n",
    "# Important Clues\n",
    "* Ask clarifying question upfront before diving the solution\n",
    "* Don't code in silence, think out louad\n",
    "* Instructor gives clue, Listen intently, take the hint and run with it\n",
    "* Work on code speed, communication and verification\n",
    "\n",
    "Tutorial sites:\n",
    "* [short videos to learn tree and data types](https://www.youtube.com/c/MichaelSambol/videos)\n",
    "* [Introduction to tree algorithm](https://youtu.be/1XC3p2zBK34)\n",
    "\n",
    "Coding sites:\n",
    "* [Hackerearth](https://www.hackerearth.com/practice/)"
   ]
  },
  {
   "cell_type": "markdown",
   "metadata": {},
   "source": [
    "***\n",
    "# My first impression\n",
    "* Using this [Data Type Code Practice](https://www.hackerearth.com/practice/data-structures/arrays/1-d/practice-problems/algorithm/maximize-sum-0423b95e/) I think first \n",
    "* * Always start from Easy problem ten move on to Medium wen you fell you are ready then Hard, ten go back and work on your speed on each section\n",
    "* * Get yourself familiarize with the format and structure of the problem. You need to read it fast. Don't get panic. Maybe read it twice one browse throuh the problem finding the hot spots and then read carefully those spots\n",
    "* * Figure out corner cases (in this exmaple repeating a numebr). Find missing parts in the problem. This is for clarification question\n",
    "* * Time yourself and meausre improvement in coding speed\n",
    "* * Explain what you do\n",
    "* Learn the [Complexity of each algorithm](https://www.bigocheatsheet.com/  )\n",
    "* Most probably ask you a recursive programming\n",
    "* Use sort "
   ]
  },
  {
   "cell_type": "markdown",
   "metadata": {},
   "source": [
    "***\n",
    "# Fomr facebook\n",
    "\n",
    "* Make sure you understand the question. Read the question back to your interviewer and ask any clarifying questions. An interview is a two-way conversation; feel free to ask questions you might have.\n",
    "* Take time to consider your approach instead of rushing through your solutions. For example, on a tree question, you'll need to choose between an iterative or a recursive approach. It's OK first to use a working, unoptimized solution that you can iterate on later. Talk through your thinking and processes out loud. This can feel unnatural, so be sure to practice beforehand.\n",
    "* Test your code by running through your problem with a few test and edge cases. Again, talk through your logic out loud when you walk through your test cases.\n",
    "* Think of ways your solution could be better, and try to improve it. When you’ve finished, your interviewer will ask you to analyze the complexity of the code in Big O notation. Walk through your code line by line and assign a complexity to each line."
   ]
  },
  {
   "cell_type": "markdown",
   "metadata": {},
   "source": [
    "***\n",
    "# Practice: Binary search in python\n",
    "\n",
    "First find out what are input (should be sorted) and outpu. Let say \n",
    "```\n",
    "[4, 5, 8, 12, 45, 87]\n",
    "```\n",
    "and we find to find 45. The output is True or False\n"
   ]
  },
  {
   "cell_type": "code",
   "execution_count": 9,
   "metadata": {},
   "outputs": [
    {
     "name": "stdout",
     "output_type": "stream",
     "text": [
      "True\n",
      "False\n"
     ]
    }
   ],
   "source": [
    "def find_it(list, target):\n",
    "    return binary_search(list, target, 0, len(list)-1)\n",
    "\n",
    "print(find_it([4, 5, 8, 12, 45, 87], 45))\n",
    "print(find_it([4, 5, 8, 12, 45, 87], 47))\n"
   ]
  },
  {
   "cell_type": "code",
   "execution_count": 8,
   "metadata": {},
   "outputs": [],
   "source": [
    "def binary_search(list, target, lower_index, upper_index):\n",
    "    if upper_index == lower_index + 1:\n",
    "        return False\n",
    "    middle_index = (lower_index + upper_index) // 2\n",
    "    candidate = list[middle_index]\n",
    "    if candidate == target:\n",
    "        return True\n",
    "    elif candidate < target:\n",
    "        lower_index = middle_index\n",
    "    else:\n",
    "        upper_index = middle_index\n",
    "    return binary_search(list, target, lower_index, upper_index)\n",
    "        "
   ]
  },
  {
   "cell_type": "markdown",
   "metadata": {},
   "source": [
    "***\n",
    "# More East Practice\n",
    "\n",
    "I included the code for \n",
    "\n",
    "* two-sum\n",
    "* reverse\n",
    "* [common prefix](https://leetcode.com/problems/longest-common-prefix/)\n",
    "* [search-insert-position](https://leetcode.com/problems/search-insert-position/)"
   ]
  },
  {
   "cell_type": "code",
   "execution_count": 4,
   "metadata": {},
   "outputs": [
    {
     "data": {
      "text/plain": [
       "[0, -2, 0, 2]"
      ]
     },
     "execution_count": 4,
     "metadata": {},
     "output_type": "execute_result"
    }
   ],
   "source": [
    "array_a = [1, 2, 3, 4]\n",
    "array_b = [1, 4, 3, 2]\n",
    "[a - b for a, b in zip(array_a, array_b)]\n",
    "\n"
   ]
  },
  {
   "cell_type": "markdown",
   "metadata": {},
   "source": [
    "***\n",
    "# Traversing Trees\n",
    "\n",
    "Following are Depth First, Stack\n",
    "Pre Order (first visit): FBADCEGIH \n",
    "```\n",
    "procedure preorder(node)\n",
    "    if node = null\n",
    "        return\n",
    "    visit(node)\n",
    "    preorder(node.left)\n",
    "    preorder(node.right) \n",
    "```\n",
    "\n",
    "Post Order (last we visit): ACEDBHIGF\n",
    "```\n",
    "procedure postorder(node)\n",
    "    if node = null\n",
    "        return\n",
    "    postorder(node.left)\n",
    "    postorder(node.right)\n",
    "    visit(node)\n",
    "```\n",
    "\n",
    "In Order (middle visit): ABCDEFGHI\n",
    "visit goees in te middle left and right line in the code\n",
    "\n",
    "Level Order\n",
    "Breath first, use Queue to remember left and right\n",
    "```\n",
    "procedure levelorder(node)\n",
    "    queue ← empty queue\n",
    "    queue.enqueue(node)\n",
    "    while not queue.isEmpty()\n",
    "        node ← queue.dequeue()\n",
    "        visit(node)\n",
    "        if node.left ≠ null\n",
    "            queue.enqueue(node.left)\n",
    "        if node.right ≠ null\n",
    "            queue.enqueue(node.right)\n",
    "```"
   ]
  },
  {
   "cell_type": "markdown",
   "metadata": {},
   "source": [
    "***\n",
    "# Sample of Facebook interview questions in Glassdoor\n",
    "\n",
    "1. Replace None value with previous value present in a list.\n",
    "2. Given a ´dictionary, print the key for nth highest value present in the dict. If there are more than 1 record present for nth highest value then sort the key and print the first one.\n",
    "3. Given two sentences, you have to print the words those are not present in either of the sentences.(If one word is present twice in 1st sentence but not present in 2nd sentence then you have to print that word too)\n",
    "4. Complete a function that returns a list containing mismatched words in two strings. The return list can be in any order. I used set to solve this question, but was also asked to verbally explain how I would solve it without using sets.\n",
    "5. Given an array containing None values, fill in the array with the most recent None value. If the list starts with None, then don't do anything to it.\n",
    "6. Given a dictionary, print the key for nth highest value present in the dict. If there are more than 1 record present for nth highest value then sort the key and print the first one (alphabetically). N can be higher than the number of elements in the dictionary.\n",
    "7. What are the top five (ranked in decreasing order) single-channel media types that correspond to the most money the grocery chain had spent on its promotional campaigns? media_type can contain mutliple values seperated by a comma, so single channel is when media_type only has one value.\n",
    "8. Given a list of ints, balance the list so that each int appears equally in the list. Return a dictionary where the key is the int and the value is the count needed to balance the list.\n",
    "```\n",
    "[1, 1, 2] => {2: 1}\n",
    "[1, 1, 1, 5, 3, 2, 2] => {5: 2, 3: 2, 2: 1}\n",
    "```\n"
   ]
  },
  {
   "cell_type": "markdown",
   "metadata": {},
   "source": [
    "***\n",
    "# Practice the best approach\n",
    "\n",
    "Try [ZigZag Conversation](https://leetcode.com/problems/zigzag-conversion/) What are the questions:\n",
    "1. Do we assume there is always a solution? For example what if ....\n",
    "2. Should I deal with empty, None (null)\n",
    "3. "
   ]
  },
  {
   "cell_type": "markdown",
   "metadata": {},
   "source": [
    "***\n",
    "# Behavioral INterview\n",
    "\n",
    "Review many use cases in youtune such as:\n",
    "\n",
    "Story of your big achievements:\n",
    "\n",
    "1. Stramline the develpment process. Using k8s development even in desktop\n",
    "2. Remote debugging\n",
    "3. use of anaconda\n",
    "   \n",
    "On project:\n",
    "1. Defininig the scope, specifically final objective (set it as early as possible)\n",
    "2. Pick a period and giving demo every period\n",
    "3. Design interatively\n",
    "4. Have a primary measure of progress/success\n",
    "5. Copy from open source commmunity as much as possinle\n",
    "6. Use expert knowledge as much as possible \n",
    "\n",
    "For ML:\n",
    "\n",
    "1. Performance vs accurace vs precision\n",
    "2. Constraints, penalty, \n",
    "3. Uncertainly, Percentile\n",
    "4. Adjustment of forecast\n",
    "5. Subject matter expert\n",
    "\n",
    "For specific project:\n",
    "* Planning Horizon\n",
    "* Event window"
   ]
  },
  {
   "cell_type": "markdown",
   "metadata": {},
   "source": [
    "***\n",
    "# Algorithsm\n",
    "\n",
    "Explain the following:\n",
    "\n",
    "## Supervised:\n",
    "\n",
    "* Supprt Vector Machine\n",
    "* Decision Tree\n",
    "* Random FOrest\n",
    "* Lodgistic Regression: Features -> Probablities -> Sigmoid -> Binary Classigfication\n",
    "\n",
    "## Unsupervised\n",
    "\n",
    "* K Means\n",
    "* Hierarchierial Clustering\n",
    "* Apriori algorithm\n",
    "* PCA\n",
    "\n",
    "## Other non NN\n",
    "\n",
    "* Naive Bayes\n",
    "* Boosting\n",
    "\n",
    "\n",
    "## non-linear functions\n",
    "\n",
    "* Sigmoid\n",
    "* Softmax\n",
    "\n",
    "\n",
    "## Overfitting\n",
    "\n",
    "* K-fold Cross Validation \n",
    "* Regularization such as LASSO\n",
    "\n",
    "## Statistics for finding patters\n",
    "\n",
    "* mean\n",
    "* median\n",
    "* mode dispersion\n",
    "* min, max\n",
    "\n",
    "Som terms:\n",
    "* descriptive\n",
    "* predictive\n",
    "* postscriptive\n",
    "\n",
    "## Fulter methods\n",
    "\n",
    "* chi-square\n",
    "* forward/backward selection (wrpper)\n",
    "* recursive feature elimination\n",
    "\n",
    "## Cross Entropy Loss (LogLoss)\n",
    "\n",
    "```\n",
    "Error= -{y ln ŷ + (1-y) ln (1-ŷ)}\n",
    "```\n",
    "\n"
   ]
  },
  {
   "cell_type": "markdown",
   "metadata": {},
   "source": [
    "***\n",
    "# Python objects\n",
    "\n",
    "* generator\n",
    "* decorator \n",
    "* Numba\n",
    "* fucntinal programming: collection tuple map filter future concurrent\n",
    "* "
   ]
  },
  {
   "cell_type": "markdown",
   "metadata": {},
   "source": [
    "***\n",
    "# MLOPs\n",
    "\n",
    "* Model health, drift and accurace\n",
    "* Lifecycle performance usage\n",
    "* Champiosn/Challeger process (other models)\n",
    "* Accurace:\n",
    "* * LogLoss (Cross Entropy)\n",
    "* * AUC (ROC, receiver operator characteristics: listing all confision matrices)\n",
    "* * Kolmogorov-Smirnov\n",
    "* * Gini Norm\n",
    "\n",
    "\n",
    "ML Deployment should answer the following:\n",
    "* Central or Cloud\n",
    "* GPU\n",
    "* Privacy\n",
    "* Distributed\n",
    "\n",
    "\n",
    "* Selection Bias \n",
    "* Exclusion Bais"
   ]
  }
 ],
 "metadata": {
  "interpreter": {
   "hash": "3c03ee8a1cf7093c401b4b5c9d86b89c497a4f1b0b5e506a4e75089d3ac32fa1"
  },
  "kernelspec": {
   "display_name": "Python 3.6.10 64-bit ('python3.6': conda)",
   "name": "python3"
  },
  "language_info": {
   "codemirror_mode": {
    "name": "ipython",
    "version": 3
   },
   "file_extension": ".py",
   "mimetype": "text/x-python",
   "name": "python",
   "nbconvert_exporter": "python",
   "pygments_lexer": "ipython3",
   "version": "3.6.10"
  },
  "orig_nbformat": 4
 },
 "nbformat": 4,
 "nbformat_minor": 2
}
